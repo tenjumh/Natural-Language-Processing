{
 "cells": [
  {
   "cell_type": "markdown",
   "metadata": {},
   "source": [
    "# 문장 수준 임베딩\n",
    "- 잠재 의미 분석(LSA) : 행렬분해\n",
    "- 잠재 디리클레 할당(LDA) : 확률모델, Doc2Vecm ELMo, GPT, BERT\n",
    "- 특히, GPT, BERT등은 Self Attention기반의 트랜스포머 네트워크로 구성됨"
   ]
  },
  {
   "cell_type": "markdown",
   "metadata": {},
   "source": [
    "<b><h3>1. 잠재 의미 분석</h3></b><br> \n",
    "- 잠재 의미 분석 : 단어-문서 행렬이나 TF-IDF 행렬, 단어-문맥 행렬 또는 PMI행렬에 특이값 분해로 차원 축소를 시행하고 단어에 해당하는 벡터를 취해 임베딩\n",
    "- "
   ]
  },
  {
   "cell_type": "markdown",
   "metadata": {},
   "source": [
    "<b><h3>3. 잠재 디리클레 할당(LDA)</h3></b><br> \n",
    "\n",
    "![LDA도식](https://github.com/tenjumh/Natural-Language-Processing/blob/master/KOREAN%20EMBEDDING/image/5%EC%9E%A5/lda%EB%8F%84%EC%8B%9D.png?raw=True)\n",
    "- LDA는 토픽별 단어의 분포, 문서별 토픽의 분포를 추정\n",
    "- 특정 토픽에 특정 단어가 나타날 확률, 위 도식에서 노란색 토픽엔 gene이라는 단어가 등장확률이 0.04, dna는 0.02, genetic은 0.01로 노란색 토픽은 대략 \"유전자\"라는 주제 예상\n",
    "- 주어진 문서를 보면 노란색 토픽에 해당하는 단어가 많다. 따라서 문서의 메인 주제는 노란색 토픽일 가능성이 높다.\n",
    "- LDA는 글쓰기 예를 자주 든다.\n",
    "- 글을 쓰기 전에 (1) 주제를 정한다. (2) 실제 글을 쓸 때 어떤 단어를 쓸지 결정한다.\n",
    "- LDA는 (1) 말뭉치로부터 얻은 토픽 분포로부터 토픽을 뽑는다. (2) 해당 토픽에 해당하는 단어를 뽑는다.\n",
    "- LDA는 말뭉치 이면에 존재하는 정보를 추론해기에 잠재라는 이름을 붙인것이다."
   ]
  },
  {
   "cell_type": "code",
   "execution_count": null,
   "metadata": {},
   "outputs": [],
   "source": []
  },
  {
   "cell_type": "code",
   "execution_count": null,
   "metadata": {},
   "outputs": [],
   "source": []
  },
  {
   "cell_type": "markdown",
   "metadata": {},
   "source": [
    "- 튜토리얼\n",
    "<LDA 모델 피처 생성> - 문서 내 단어의 등장 순서를 고려하지 않고 단어 카운팅(빈도)만 체크"
   ]
  },
  {
   "cell_type": "code",
   "execution_count": 3,
   "metadata": {},
   "outputs": [
    {
     "ename": "ModuleNotFoundError",
     "evalue": "No module named 'khaiii'",
     "output_type": "error",
     "traceback": [
      "\u001b[1;31m---------------------------------------------------------------------------\u001b[0m",
      "\u001b[1;31mModuleNotFoundError\u001b[0m                       Traceback (most recent call last)",
      "\u001b[1;32m<ipython-input-3-ef1dbf97bdd0>\u001b[0m in \u001b[0;36m<module>\u001b[1;34m\u001b[0m\n\u001b[0;32m      1\u001b[0m \u001b[1;32mfrom\u001b[0m \u001b[0mgensim\u001b[0m \u001b[1;32mimport\u001b[0m \u001b[0mcorpora\u001b[0m\u001b[1;33m\u001b[0m\u001b[1;33m\u001b[0m\u001b[0m\n\u001b[1;32m----> 2\u001b[1;33m \u001b[1;32mfrom\u001b[0m \u001b[0mpreprocess\u001b[0m \u001b[1;32mimport\u001b[0m \u001b[0mget_tokenizer\u001b[0m\u001b[1;33m\u001b[0m\u001b[1;33m\u001b[0m\u001b[0m\n\u001b[0m\u001b[0;32m      3\u001b[0m \u001b[1;33m\u001b[0m\u001b[0m\n\u001b[0;32m      4\u001b[0m \u001b[0mcorpus_fname\u001b[0m \u001b[1;33m=\u001b[0m \u001b[1;34m\"C:/Users/fxk/PycharmProjects/tenjumh/NLP/KOREAN EMBEDDING/corrected_ratings_corpus.txt\"\u001b[0m\u001b[1;33m\u001b[0m\u001b[1;33m\u001b[0m\u001b[0m\n\u001b[0;32m      5\u001b[0m \u001b[1;33m\u001b[0m\u001b[0m\n",
      "\u001b[1;32m~\\PycharmProjects\\tenjumh\\NLP\\KOREAN EMBEDDING\\preprocess\\__init__.py\u001b[0m in \u001b[0;36m<module>\u001b[1;34m\u001b[0m\n\u001b[1;32m----> 1\u001b[1;33m \u001b[1;32mfrom\u001b[0m \u001b[1;33m.\u001b[0m\u001b[0msupervised_nlputils\u001b[0m \u001b[1;32mimport\u001b[0m \u001b[0mget_tokenizer\u001b[0m\u001b[1;33m,\u001b[0m \u001b[0mpost_processing\u001b[0m\u001b[1;33m\u001b[0m\u001b[1;33m\u001b[0m\u001b[0m\n\u001b[0m\u001b[0;32m      2\u001b[0m \u001b[1;32mfrom\u001b[0m \u001b[1;33m.\u001b[0m\u001b[0munsupervised_nlputils\u001b[0m \u001b[1;32mimport\u001b[0m \u001b[0mjamo_sentence\u001b[0m\u001b[1;33m\u001b[0m\u001b[1;33m\u001b[0m\u001b[0m\n",
      "\u001b[1;32m~\\PycharmProjects\\tenjumh\\NLP\\KOREAN EMBEDDING\\preprocess\\supervised_nlputils.py\u001b[0m in \u001b[0;36m<module>\u001b[1;34m\u001b[0m\n\u001b[0;32m      1\u001b[0m \u001b[1;32mimport\u001b[0m \u001b[0msys\u001b[0m\u001b[1;33m,\u001b[0m \u001b[0mre\u001b[0m\u001b[1;33m,\u001b[0m \u001b[0margparse\u001b[0m\u001b[1;33m\u001b[0m\u001b[1;33m\u001b[0m\u001b[0m\n\u001b[1;32m----> 2\u001b[1;33m \u001b[1;32mfrom\u001b[0m \u001b[0mkhaiii\u001b[0m \u001b[1;32mimport\u001b[0m \u001b[0mKhaiiiApi\u001b[0m\u001b[1;33m\u001b[0m\u001b[1;33m\u001b[0m\u001b[0m\n\u001b[0m\u001b[0;32m      3\u001b[0m \u001b[1;32mfrom\u001b[0m \u001b[0mkonlpy\u001b[0m\u001b[1;33m.\u001b[0m\u001b[0mtag\u001b[0m \u001b[1;32mimport\u001b[0m \u001b[0mOkt\u001b[0m\u001b[1;33m,\u001b[0m \u001b[0mKomoran\u001b[0m\u001b[1;33m,\u001b[0m \u001b[0mMecab\u001b[0m\u001b[1;33m,\u001b[0m \u001b[0mHannanum\u001b[0m\u001b[1;33m,\u001b[0m \u001b[0mKkma\u001b[0m\u001b[1;33m\u001b[0m\u001b[1;33m\u001b[0m\u001b[0m\n\u001b[0;32m      4\u001b[0m \u001b[1;33m\u001b[0m\u001b[0m\n\u001b[0;32m      5\u001b[0m \u001b[1;33m\u001b[0m\u001b[0m\n",
      "\u001b[1;31mModuleNotFoundError\u001b[0m: No module named 'khaiii'"
     ]
    }
   ],
   "source": [
    "from gensim import corpora\n",
    "from preprocess import get_tokenizer\n",
    "\n",
    "corpus_fname = \"C:/Users/fxk/PycharmProjects/tenjumh/NLP/KOREAN EMBEDDING/corrected_ratings_corpus.txt\"\n",
    "\n",
    "documents, tokenized_corpus = [], []\n",
    "tokenizer = get_tokenizer(\"mecab\")\n",
    "\n",
    "with open(corpus_fname, 'r', encoding='utf-8') as f:\n",
    "    for document in f:\n",
    "        tokens = list(set(tokenizer.morphs(document.strip())))\n",
    "        documents.append(document)\n",
    "        tokenized_corpus.append(tokens)\n",
    "dictionary = corpora.Dictionary(tokenized_corpus)\n",
    "corpus = [dictionary.doc2bow(text) for text in tokenized_corpus]"
   ]
  },
  {
   "cell_type": "code",
   "execution_count": null,
   "metadata": {},
   "outputs": [],
   "source": []
  },
  {
   "cell_type": "markdown",
   "metadata": {},
   "source": [
    "![TF-IDF행렬](https://github.com/tenjumh/GraduateSchool/blob/master/Study/KOREAN%20EMBEDDING/image/TF-IDF%ED%96%89%EB%A0%AC%EC%98%88.PNG?raw=True)"
   ]
  },
  {
   "cell_type": "code",
   "execution_count": null,
   "metadata": {},
   "outputs": [],
   "source": []
  }
 ],
 "metadata": {
  "kernelspec": {
   "display_name": "Python 3",
   "language": "python",
   "name": "python3"
  },
  "language_info": {
   "codemirror_mode": {
    "name": "ipython",
    "version": 3
   },
   "file_extension": ".py",
   "mimetype": "text/x-python",
   "name": "python",
   "nbconvert_exporter": "python",
   "pygments_lexer": "ipython3",
   "version": "3.6.9"
  }
 },
 "nbformat": 4,
 "nbformat_minor": 2
}
